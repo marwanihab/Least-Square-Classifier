{
 "cells": [
  {
   "cell_type": "code",
   "execution_count": 2,
   "metadata": {},
   "outputs": [],
   "source": [
    "import numpy as np\n",
    "import matplotlib.pyplot as plt"
   ]
  },
  {
   "cell_type": "code",
   "execution_count": 3,
   "metadata": {},
   "outputs": [
    {
     "data": {
      "text/plain": [
       "(2400, 785)"
      ]
     },
     "execution_count": 3,
     "metadata": {},
     "output_type": "execute_result"
    }
   ],
   "source": [
    "X = np.array([])\n",
    "for i in range(1,2401):\n",
    "    array = plt.imread(\"Train/\"+str(i)+\".jpg\")\n",
    "    array = np.array(array)\n",
    "    array = np.reshape(array, (1,784))\n",
    "    array = np.append(array,np.array([1]))\n",
    "    if len(X) == 0:\n",
    "        X = array\n",
    "    else:\n",
    "        X = np.vstack((X, array))\n",
    "X.shape"
   ]
  },
  {
   "cell_type": "code",
   "execution_count": 4,
   "metadata": {},
   "outputs": [
    {
     "data": {
      "text/plain": [
       "array([[4379,  343,  841, ...,    0,    0,  659],\n",
       "       [ 343, 4757, 1066, ...,    0,    0,  623],\n",
       "       [ 841, 1066, 4318, ...,    0,    0,  564],\n",
       "       ...,\n",
       "       [   0,    0,    0, ...,   25,    0,    5],\n",
       "       [   0,    0,    0, ...,    0,   25,    5],\n",
       "       [ 659,  623,  564, ...,    5,    5, 2400]])"
      ]
     },
     "execution_count": 4,
     "metadata": {},
     "output_type": "execute_result"
    }
   ],
   "source": [
    "X_transpose = np.transpose(X)\n",
    "product = X_transpose.dot(X)\n",
    "product"
   ]
  },
  {
   "cell_type": "code",
   "execution_count": 5,
   "metadata": {},
   "outputs": [
    {
     "data": {
      "text/plain": [
       "array([[ 1.16599683e-03,  1.88502030e-04,  1.22347192e-04, ...,\n",
       "         9.95796244e-06,  3.46405192e-06, -7.18284418e-05],\n",
       "       [ 1.88502031e-04,  8.37986774e-04, -2.25938467e-05, ...,\n",
       "        -1.07925914e-05,  8.22804826e-06,  7.92922826e-05],\n",
       "       [ 1.22347192e-04, -2.25938468e-05,  1.10071882e-03, ...,\n",
       "         6.07657053e-05,  1.97726407e-05, -1.51248904e-04],\n",
       "       ...,\n",
       "       [ 9.95796243e-06, -1.07925914e-05,  6.07657053e-05, ...,\n",
       "         8.59566294e-05,  4.39402094e-05,  2.36493686e-05],\n",
       "       [ 3.46405193e-06,  8.22804825e-06,  1.97726407e-05, ...,\n",
       "         4.39402094e-05,  8.33318937e-05, -1.03927880e-05],\n",
       "       [-7.18284418e-05,  7.92922826e-05, -1.51248904e-04, ...,\n",
       "         2.36493686e-05, -1.03927880e-05,  1.79137386e-02]])"
      ]
     },
     "execution_count": 5,
     "metadata": {},
     "output_type": "execute_result"
    }
   ],
   "source": [
    "firstCoefficientInv = np.linalg.pinv(product)\n",
    "firstCoefficientInv"
   ]
  },
  {
   "cell_type": "code",
   "execution_count": 6,
   "metadata": {},
   "outputs": [
    {
     "data": {
      "text/plain": [
       "(785, 2400)"
      ]
     },
     "execution_count": 6,
     "metadata": {},
     "output_type": "execute_result"
    }
   ],
   "source": [
    "A_matrix = firstCoefficientInv.dot(X_transpose)\n",
    "A_matrix.shape"
   ]
  },
  {
   "cell_type": "code",
   "execution_count": 7,
   "metadata": {},
   "outputs": [
    {
     "data": {
      "text/plain": [
       "(2400, 1)"
      ]
     },
     "execution_count": 7,
     "metadata": {},
     "output_type": "execute_result"
    }
   ],
   "source": [
    "t0 = np.array([])\n",
    "for i in range(0,2400):\n",
    "    if(i>=0 and i< 240):\n",
    "        if len(t0) == 0:\n",
    "            t0 = np.array([1])\n",
    "        else:\n",
    "            t0 = np.vstack((t0,np.array([1])))\n",
    "    else:\n",
    "        t0 = np.vstack((t0,np.array([-1])))\n",
    "t0.shape"
   ]
  },
  {
   "cell_type": "code",
   "execution_count": 8,
   "metadata": {},
   "outputs": [
    {
     "data": {
      "text/plain": [
       "(2400, 1)"
      ]
     },
     "execution_count": 8,
     "metadata": {},
     "output_type": "execute_result"
    }
   ],
   "source": [
    "t1 = np.array([])\n",
    "for i in range(0,2400):\n",
    "    if len(t1) == 0:\n",
    "            t1 = np.array([1])\n",
    "    else:       \n",
    "        if(i>=240 and i< 480):\n",
    "                t1 = np.vstack((t1,np.array([1])))\n",
    "        else:\n",
    "                t1 = np.vstack((t1,np.array([-1])))\n",
    "t1.shape"
   ]
  },
  {
   "cell_type": "code",
   "execution_count": 9,
   "metadata": {},
   "outputs": [
    {
     "data": {
      "text/plain": [
       "(2400, 1)"
      ]
     },
     "execution_count": 9,
     "metadata": {},
     "output_type": "execute_result"
    }
   ],
   "source": [
    "t2 = np.array([])\n",
    "for i in range(0,2400):\n",
    "    if len(t2) == 0:\n",
    "            t2 = np.array([1])\n",
    "    else:       \n",
    "        if(i>=480 and i< 720):\n",
    "                t2 = np.vstack((t2,np.array([1])))\n",
    "        else:\n",
    "                t2 = np.vstack((t2,np.array([-1])))\n",
    "t2.shape"
   ]
  },
  {
   "cell_type": "code",
   "execution_count": 10,
   "metadata": {},
   "outputs": [
    {
     "data": {
      "text/plain": [
       "(2400, 1)"
      ]
     },
     "execution_count": 10,
     "metadata": {},
     "output_type": "execute_result"
    }
   ],
   "source": [
    "t3 = np.array([])\n",
    "for i in range(0,2400):\n",
    "    if len(t3) == 0:\n",
    "            t3 = np.array([1])\n",
    "    else:       \n",
    "        if(i>=720 and i< 960):\n",
    "                t3 = np.vstack((t3,np.array([1])))\n",
    "        else:\n",
    "                t3 = np.vstack((t3,np.array([-1])))\n",
    "t3.shape"
   ]
  },
  {
   "cell_type": "code",
   "execution_count": 11,
   "metadata": {},
   "outputs": [
    {
     "data": {
      "text/plain": [
       "(2400, 1)"
      ]
     },
     "execution_count": 11,
     "metadata": {},
     "output_type": "execute_result"
    }
   ],
   "source": [
    "t4 = np.array([])\n",
    "for i in range(0,2400):\n",
    "    if len(t4) == 0:\n",
    "            t4 = np.array([1])\n",
    "    else:       \n",
    "        if(i>=960 and i< 1200):\n",
    "                t4 = np.vstack((t4,np.array([1])))\n",
    "        else:\n",
    "                t4 = np.vstack((t4,np.array([-1])))\n",
    "t4.shape"
   ]
  },
  {
   "cell_type": "code",
   "execution_count": 12,
   "metadata": {},
   "outputs": [
    {
     "data": {
      "text/plain": [
       "(2400, 1)"
      ]
     },
     "execution_count": 12,
     "metadata": {},
     "output_type": "execute_result"
    }
   ],
   "source": [
    "t5 = np.array([])\n",
    "for i in range(0,2400):\n",
    "    if len(t5) == 0:\n",
    "            t5 = np.array([1])\n",
    "    else:       \n",
    "        if(i>=1200 and i< 1440):\n",
    "                t5 = np.vstack((t5,np.array([1])))\n",
    "        else:\n",
    "                t5 = np.vstack((t5,np.array([-1])))\n",
    "t5.shape"
   ]
  },
  {
   "cell_type": "code",
   "execution_count": 13,
   "metadata": {},
   "outputs": [
    {
     "data": {
      "text/plain": [
       "(2400, 1)"
      ]
     },
     "execution_count": 13,
     "metadata": {},
     "output_type": "execute_result"
    }
   ],
   "source": [
    "t6 = np.array([])\n",
    "for i in range(0,2400):\n",
    "    if len(t6) == 0:\n",
    "            t6 = np.array([1])\n",
    "    else:       \n",
    "        if(i>=1440 and i< 1680):\n",
    "                t6 = np.vstack((t6,np.array([1])))\n",
    "        else:\n",
    "                t6 = np.vstack((t6,np.array([-1])))\n",
    "t6.shape"
   ]
  },
  {
   "cell_type": "code",
   "execution_count": 14,
   "metadata": {},
   "outputs": [
    {
     "data": {
      "text/plain": [
       "(2400, 1)"
      ]
     },
     "execution_count": 14,
     "metadata": {},
     "output_type": "execute_result"
    }
   ],
   "source": [
    "t7 = np.array([])\n",
    "for i in range(0,2400):\n",
    "    if len(t7) == 0:\n",
    "            t7 = np.array([1])\n",
    "    else:       \n",
    "        if(i>=1680 and i< 1920):\n",
    "                t7 = np.vstack((t7,np.array([1])))\n",
    "        else:\n",
    "                t7 = np.vstack((t7,np.array([-1])))\n",
    "t7.shape"
   ]
  },
  {
   "cell_type": "code",
   "execution_count": 15,
   "metadata": {},
   "outputs": [
    {
     "data": {
      "text/plain": [
       "(2400, 1)"
      ]
     },
     "execution_count": 15,
     "metadata": {},
     "output_type": "execute_result"
    }
   ],
   "source": [
    "t8 = np.array([])\n",
    "for i in range(0,2400):\n",
    "    if len(t8) == 0:\n",
    "            t8 = np.array([1])\n",
    "    else:       \n",
    "        if(i>=1920 and i< 2160):\n",
    "                t8 = np.vstack((t8,np.array([1])))\n",
    "        else:\n",
    "                t8 = np.vstack((t8,np.array([-1])))\n",
    "t8.shape"
   ]
  },
  {
   "cell_type": "code",
   "execution_count": 16,
   "metadata": {},
   "outputs": [
    {
     "data": {
      "text/plain": [
       "(2400, 1)"
      ]
     },
     "execution_count": 16,
     "metadata": {},
     "output_type": "execute_result"
    }
   ],
   "source": [
    "t9 = np.array([])\n",
    "for i in range(0,2400):\n",
    "    if len(t9) == 0:\n",
    "            t9 = np.array([1])\n",
    "    else:       \n",
    "        if(i>=2160 and i< 2400):\n",
    "                t9 = np.vstack((t9,np.array([1])))\n",
    "        else:\n",
    "                t9 = np.vstack((t9,np.array([-1])))\n",
    "t9.shape"
   ]
  },
  {
   "cell_type": "code",
   "execution_count": 17,
   "metadata": {},
   "outputs": [
    {
     "data": {
      "text/plain": [
       "(785, 10)"
      ]
     },
     "execution_count": 17,
     "metadata": {},
     "output_type": "execute_result"
    }
   ],
   "source": [
    "w0 = A_matrix.dot(t0)\n",
    "w1 = A_matrix.dot(t1)\n",
    "w2 = A_matrix.dot(t2)\n",
    "w3 = A_matrix.dot(t3)\n",
    "w4 = A_matrix.dot(t4)\n",
    "w5 = A_matrix.dot(t5)\n",
    "w6 = A_matrix.dot(t6)\n",
    "w7 = A_matrix.dot(t7)\n",
    "w8 = A_matrix.dot(t8)\n",
    "w9 = A_matrix.dot(t9)\n",
    "arrayofWeigth = np.array([])\n",
    "arrayofWeigth = w0\n",
    "arrayofWeigth = np.hstack((arrayofWeigth,w1))\n",
    "arrayofWeigth = np.hstack((arrayofWeigth,w2))\n",
    "arrayofWeigth = np.hstack((arrayofWeigth,w3))\n",
    "arrayofWeigth = np.hstack((arrayofWeigth,w4))\n",
    "arrayofWeigth = np.hstack((arrayofWeigth,w5))\n",
    "arrayofWeigth = np.hstack((arrayofWeigth,w6))\n",
    "arrayofWeigth = np.hstack((arrayofWeigth,w7))\n",
    "arrayofWeigth = np.hstack((arrayofWeigth,w8))\n",
    "arrayofWeigth = np.hstack((arrayofWeigth,w9))\n",
    "arrayofWeigth.shape"
   ]
  },
  {
   "cell_type": "code",
   "execution_count": 18,
   "metadata": {},
   "outputs": [
    {
     "data": {
      "text/plain": [
       "(200, 785)"
      ]
     },
     "execution_count": 18,
     "metadata": {},
     "output_type": "execute_result"
    }
   ],
   "source": [
    "X_test = np.array([])\n",
    "for i in range(1,201):\n",
    "    array = plt.imread(\"Test/\"+str(i)+\".jpg\")\n",
    "    array = np.array(array)\n",
    "    array = np.reshape(array, (1,784))\n",
    "    array = np.append(array,np.array([1]))\n",
    "    if len(X_test) == 0:\n",
    "        X_test = array\n",
    "    else:\n",
    "        X_test = np.vstack((X_test, array))\n",
    "X_test.shape"
   ]
  },
  {
   "cell_type": "code",
   "execution_count": 19,
   "metadata": {},
   "outputs": [
    {
     "data": {
      "text/plain": [
       "(200, 10)"
      ]
     },
     "execution_count": 19,
     "metadata": {},
     "output_type": "execute_result"
    }
   ],
   "source": [
    "classes_test = X_test.dot(arrayofWeigth)\n",
    "classes_test.shape"
   ]
  },
  {
   "cell_type": "code",
   "execution_count": 19,
   "metadata": {},
   "outputs": [
    {
     "data": {
      "text/plain": [
       "array([[19.,  0.,  0.,  0.,  0.,  0.,  1.,  0.,  0.,  0.],\n",
       "       [ 0., 20.,  0.,  0.,  0.,  0.,  0.,  0.,  0.,  0.],\n",
       "       [ 1.,  3., 11.,  2.,  2.,  1.,  0.,  0.,  0.,  0.],\n",
       "       [ 0.,  0.,  0., 17.,  0.,  1.,  0.,  0.,  2.,  0.],\n",
       "       [ 0.,  0.,  0.,  0., 17.,  1.,  0.,  1.,  0.,  1.],\n",
       "       [ 0.,  0.,  0.,  1.,  0., 14.,  1.,  0.,  2.,  2.],\n",
       "       [ 0.,  0.,  0.,  0.,  0.,  0., 20.,  0.,  0.,  0.],\n",
       "       [ 0.,  0.,  1.,  1.,  0.,  0.,  0., 15.,  0.,  3.],\n",
       "       [ 0.,  0.,  1.,  0.,  0.,  3.,  0.,  0., 15.,  1.],\n",
       "       [ 1.,  0.,  0.,  1.,  1.,  1.,  0.,  4.,  0., 12.]])"
      ]
     },
     "execution_count": 19,
     "metadata": {},
     "output_type": "execute_result"
    }
   ],
   "source": [
    "confusion_matrix = np.zeros((10,10))\n",
    "for i in range(0,200):\n",
    "    if(i<20):\n",
    "        array = classes_test[i]\n",
    "        predictedClass = np.where(array == np.amax(array))\n",
    "        classIndex = predictedClass[0]\n",
    "        confusion_matrix[0][classIndex] += 1\n",
    "    if(i>=20 and i<40):\n",
    "        array = classes_test[i]\n",
    "        predictedClass = np.where(array == np.amax(array))\n",
    "        classIndex = predictedClass[0]\n",
    "        confusion_matrix[1][classIndex] += 1    \n",
    "    if(i>=40 and i<60):\n",
    "        array = classes_test[i]\n",
    "        predictedClass = np.where(array == np.amax(array))\n",
    "        classIndex = predictedClass[0]\n",
    "        confusion_matrix[2][classIndex] += 1\n",
    "    if(i>=60 and i<80):\n",
    "        array = classes_test[i]\n",
    "        predictedClass = np.where(array == np.amax(array))\n",
    "        classIndex = predictedClass[0]\n",
    "        confusion_matrix[3][classIndex] += 1\n",
    "    if(i>=80 and i<100):\n",
    "        array = classes_test[i]\n",
    "        predictedClass = np.where(array == np.amax(array))\n",
    "        classIndex = predictedClass[0]\n",
    "        confusion_matrix[4][classIndex] += 1\n",
    "    if(i>=100 and i<120):\n",
    "        array = classes_test[i]\n",
    "        predictedClass = np.where(array == np.amax(array))\n",
    "        classIndex = predictedClass[0]\n",
    "        confusion_matrix[5][classIndex] += 1\n",
    "    if(i>=120 and i<140):\n",
    "        array = classes_test[i]\n",
    "        predictedClass = np.where(array == np.amax(array))\n",
    "        classIndex = predictedClass[0]\n",
    "        confusion_matrix[6][classIndex] += 1\n",
    "    if(i>=140 and i<160):\n",
    "        array = classes_test[i]\n",
    "        predictedClass = np.where(array == np.amax(array))\n",
    "        classIndex = predictedClass[0]\n",
    "        confusion_matrix[7][classIndex] += 1\n",
    "    if(i>=160 and i<180):\n",
    "        array = classes_test[i]\n",
    "        predictedClass = np.where(array == np.amax(array))\n",
    "        classIndex = predictedClass[0]\n",
    "        confusion_matrix[8][classIndex] += 1\n",
    "    if(i>=180 and i<200):\n",
    "        array = classes_test[i]\n",
    "        predictedClass = np.where(array == np.amax(array))\n",
    "        classIndex = predictedClass[0]\n",
    "        confusion_matrix[9][classIndex] += 1\n",
    "        \n",
    "confusion_matrix        "
   ]
  },
  {
   "cell_type": "code",
   "execution_count": 40,
   "metadata": {},
   "outputs": [
    {
     "data": {
      "image/png": "[encoded data removed]",
      "text/plain": [
       "<Figure size 432x288 with 1 Axes>"
      ]
     },
     "metadata": {
      "needs_background": "light"
     },
     "output_type": "display_data"
    }
   ],
   "source": [
    "fig = plt.figure()\n",
    "plt.clf()\n",
    "output = fig.add_subplot(111)\n",
    "output.set_aspect(1)\n",
    "res = output.imshow(np.array(confusion_matrix))\n",
    "width, height = confusion_matrix.shape\n",
    "plt.rcParams['xtick.bottom'] = plt.rcParams['xtick.labelbottom'] = False\n",
    "plt.rcParams['xtick.top'] = plt.rcParams['xtick.labeltop'] = True\n",
    "prediction = ['predicted0','predicted1','predicted2','predicted3','predicted4','predicted5','predicted6','predicted7','predicted8','predicted9']\n",
    "plt.xticks(range(width), prediction[:width])\n",
    "plt.setp(output.get_xticklabels(), rotation=45, ha=\"left\")\n",
    "actual = ['actual0','actual1','actual2','actual3','actual4','actual5','actual6','actual7','actual8','actual9']\n",
    "plt.xticks(range(width), prediction[:width])\n",
    "plt.yticks(range(height), actual[:height])\n",
    "plt.savefig('confusion.jpg', format='jpg',  bbox_inches=\"tight\")"
   ]
  },
  {
   "cell_type": "code",
   "execution_count": 22,
   "metadata": {},
   "outputs": [],
   "source": [
    "# plt.imsave('Confusion.jpg', confusion_matrix)"
   ]
  }
 ],
 "metadata": {
  "kernelspec": {
   "display_name": "Python 3",
   "language": "python",
   "name": "python3"
  },
  "language_info": {
   "codemirror_mode": {
    "name": "ipython",
    "version": 3
   },
   "file_extension": ".py",
   "mimetype": "text/x-python",
   "name": "python",
   "nbconvert_exporter": "python",
   "pygments_lexer": "ipython3",
   "version": "3.7.3"
  }
 },
 "nbformat": 4,
 "nbformat_minor": 4
}
